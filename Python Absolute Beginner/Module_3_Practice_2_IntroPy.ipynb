{
 "cells": [
  {
   "cell_type": "markdown",
   "metadata": {},
   "source": [
    "# 1-5 Intro Python Practice  \n",
    "## conditionals, type, and mathematics extended   \n",
    "&nbsp;\n",
    "<font size=\"5\" color=\"#00A0B2\"  face=\"verdana\"> <B>Student will be able to</B></font>  \n",
    "- code more than two choices using **`elif`** \n",
    "- gather numeric input using type casting  \n",
    "- perform subtraction, multiplication and division operations in code  &nbsp;  \n"
   ]
  },
  {
   "cell_type": "markdown",
   "metadata": {},
   "source": [
    "# &nbsp;  \n",
    "<font size=\"6\" color=\"#B24C00\"  face=\"verdana\"> <B>Tasks</B></font>"
   ]
  },
  {
   "cell_type": "markdown",
   "metadata": {},
   "source": [
    "### Rainbow colors\n",
    "ask for input of a favorite rainbow color first letter: ROYGBIV  \n",
    "\n",
    "Using `if`, `elif`, and `else`:  \n",
    "- print the color matching the letter  \n",
    "    - R = Red  \n",
    "    - O = Orange  \n",
    "    - Y = Yellow  \n",
    "    - G = Green\n",
    "    - B = Blue\n",
    "    - I = Indigo\n",
    "    - V = Violet\n",
    "    - else print \"no match\"\n"
   ]
  },
  {
   "cell_type": "code",
   "execution_count": 1,
   "metadata": {},
   "outputs": [
    {
     "name": "stdout",
     "output_type": "stream",
     "text": [
      "Whats your favorite rainbow color's first letter: G\n",
      "Green\n"
     ]
    }
   ],
   "source": [
    "# [ ] complete rainbow colors\n",
    "color=input(\"Whats your favorite rainbow color's first letter: \").upper()\n",
    "if color==\"R\":\n",
    "    print(\"RED\")\n",
    "elif color==\"O\":\n",
    "    print(\"Orange\")\n",
    "elif color==\"Y\":\n",
    "    print(\"Yellow\")\n",
    "elif color==\"G\":\n",
    "    print(\"Green\")\n",
    "elif color==\"B\":\n",
    "    print(\"Blue\")\n",
    "elif color==\"I\":\n",
    "    print(\"Indigo\")\n",
    "elif color==\"V\":\n",
    "    print(\"Violet\")\n",
    "else:\n",
    "    print(\"no match\")\n"
   ]
  },
  {
   "cell_type": "code",
   "execution_count": 13,
   "metadata": {},
   "outputs": [
    {
     "name": "stdout",
     "output_type": "stream",
     "text": [
      "Whats your favorite rainbow color's first letter: B\n",
      "Blue\n"
     ]
    }
   ],
   "source": [
    "# [ ] make the code above into a function rainbow_color() that has a string parameter, \n",
    "def rainbow_color(color):\n",
    "    if color==\"R\":\n",
    "        return \"RED\"\n",
    "    elif color==\"O\":\n",
    "        return \"Orange\"\n",
    "    elif color==\"Y\":\n",
    "        return \"Yellow\"\n",
    "    elif color==\"G\":\n",
    "        return \"Green\"\n",
    "    elif color==\"B\":\n",
    "        return \"Blue\"\n",
    "    elif color==\"I\":\n",
    "        return \"Indigo\"\n",
    "    elif color==\"V\":\n",
    "        return \"Violet\"\n",
    "    else:\n",
    "        return \"no match\"\n",
    "# get input and call the function and return the matching color as a string or \"no match\" message.\n",
    "color=input(\"Whats your favorite rainbow color's first letter: \").upper()\n",
    "print(rainbow_color(color))\n",
    "# Call the function and print the return string.\n",
    "\n"
   ]
  },
  {
   "cell_type": "markdown",
   "metadata": {},
   "source": [
    "# &nbsp;  \n",
    "**Create function age_20() that adds or subtracts 20 from your age for a return value based on current age** (use `if`) \n",
    "- call the funtion with user input and then use the return value in a sentence  \n",
    "example `age_20(25)` returns **5**: \n",
    "> \"5 years old, 20 years difference from now\""
   ]
  },
  {
   "cell_type": "code",
   "execution_count": 18,
   "metadata": {},
   "outputs": [
    {
     "name": "stdout",
     "output_type": "stream",
     "text": [
      "What is your age? 60\n",
      "40 years old, 20 years difference from now (do you feel old yet?)\n"
     ]
    }
   ],
   "source": [
    "# [ ] complete age_20()\n",
    "def age_20(age):\n",
    "    age=int(age)-20\n",
    "    return age\n",
    "age=int(input(\"What is your age? \"))\n",
    "print(age_20(age),\"years old, 20 years difference from now (do you feel old yet?)\")\n"
   ]
  },
  {
   "cell_type": "markdown",
   "metadata": {},
   "source": [
    "**create a function rainbow_or_age that takes a string argument**\n",
    "- if argument is a digit return the value of calling age_20() with the str value cast as **`int`** \n",
    "- if argument is an alphabetical character return the value of calling rainbow_color() with the str\n",
    "- if neither return FALSE"
   ]
  },
  {
   "cell_type": "code",
   "execution_count": 25,
   "metadata": {},
   "outputs": [
    {
     "name": "stdout",
     "output_type": "stream",
     "text": [
      "Enter either your age or rainbow color letter (R for red):24\n",
      "4\n"
     ]
    }
   ],
   "source": [
    "# [ ]  create rainbow_or_age()\n",
    "def rainbow_or_age(choice):\n",
    "    if int(choice.isdigit()):\n",
    "        return age_20(choice)\n",
    "    elif choice.isalpha():\n",
    "        return rainbow_color(choice)\n",
    "    else:\n",
    "        return False\n",
    "choice=input(\"Enter either your age or rainbow color letter (R for red):\")\n",
    "print(rainbow_or_age(choice))\n"
   ]
  },
  {
   "cell_type": "code",
   "execution_count": 26,
   "metadata": {},
   "outputs": [
    {
     "name": "stdout",
     "output_type": "stream",
     "text": [
      "Enter the first number: 45\n",
      "Enter the second number: 12\n",
      "45 + 12 = 57\n"
     ]
    }
   ],
   "source": [
    "# [ ]  add 2 numbers from input using a cast to integer and display the answer \n",
    "num1=int(input(\"Enter the first number: \"))\n",
    "num2=int(input(\"Enter the second number: \"))\n",
    "print(num1,\"+\",num2,\"=\",num1+num2)"
   ]
  },
  {
   "cell_type": "code",
   "execution_count": 31,
   "metadata": {},
   "outputs": [
    {
     "name": "stdout",
     "output_type": "stream",
     "text": [
      "Enter the first number: 15\n",
      "Enter the second number: 10\n",
      "the answer is...150\n"
     ]
    }
   ],
   "source": [
    "# [ ] Multiply 2 numbers from input using cast and save the answer as part of a string \"the answer is...\"\n",
    "# display the string using print\n",
    "num1=input(\"Enter the first number: \")\n",
    "num2=input(\"Enter the second number: \")\n",
    "answer=\"the answer is...\"+str(int(num1)*int(num2))\n",
    "print(answer)"
   ]
  },
  {
   "cell_type": "code",
   "execution_count": 33,
   "metadata": {},
   "outputs": [
    {
     "name": "stdout",
     "output_type": "stream",
     "text": [
      "Enter the first number: 15\n",
      "Enter the second number: 45\n",
      "The average of 15 + 45 = 30.0\n"
     ]
    }
   ],
   "source": [
    "# [ ] get input of 2 numbers and display the average: (num1 + num2) divided by 2\n",
    "num1=input(\"Enter the first number: \")\n",
    "num2=input(\"Enter the second number: \")\n",
    "print(\"The average of \"+num1+\" + \"+num2+\" =\",(int(num1)+int(num2))/2)"
   ]
  },
  {
   "cell_type": "code",
   "execution_count": 36,
   "metadata": {},
   "outputs": [
    {
     "name": "stdout",
     "output_type": "stream",
     "text": [
      "Enter the first number: 1\n",
      "Enter the second number: 181\n",
      "181 is larger than 1 subtracted from each other they equal 180\n"
     ]
    }
   ],
   "source": [
    "# [ ] get input of 2 numbers and subtract the largest from the smallest (use an if statement to see which is larger)\n",
    "# show the answer\n",
    "num1=int(input(\"Enter the first number: \"))\n",
    "num2=int(input(\"Enter the second number: \"))\n",
    "if num1>=num2:\n",
    "    subtract=num1-num2\n",
    "    print(num1,\"is larger than\",num2,\"subtracted from each other they equal\",subtract)\n",
    "else:\n",
    "    subtract=num2-num1\n",
    "    print(num2,\"is larger than\",num1,\"subtracted from each other they equal\",subtract)"
   ]
  },
  {
   "cell_type": "code",
   "execution_count": 44,
   "metadata": {},
   "outputs": [
    {
     "name": "stdout",
     "output_type": "stream",
     "text": [
      "Enter the first number: 15\n",
      "Enter the second number: 10254\n",
      "10254 divided by 15 = 683\n"
     ]
    }
   ],
   "source": [
    "# [ ] Divide a larger number by a smaller number and print the integer part of the result\n",
    "# don't divide by zero! if a zero is input make the result zero\n",
    "# [ ] cast the answer to an integer to cut off the decimals and print the result\n",
    "num1=int(input(\"Enter the first number: \"))\n",
    "num2=int(input(\"Enter the second number: \"))\n",
    "if num1>=num2:\n",
    "    divide=num1/num2\n",
    "    print(num1,\"divided by\",num2,\"=\",int(divide))\n",
    "elif num1==0:\n",
    "    print(\"The answer is 0\")\n",
    "elif num2==0:\n",
    "    print(\"The answer is 0\")\n",
    "else:\n",
    "    divide=num2/num1\n",
    "    print(num2,\"divided by\",num1,\"=\",int(divide))\n"
   ]
  },
  {
   "cell_type": "markdown",
   "metadata": {},
   "source": [
    "[Terms of use](http://go.microsoft.com/fwlink/?LinkID=206977) &nbsp; [Privacy & cookies](https://go.microsoft.com/fwlink/?LinkId=521839) &nbsp; © 2017 Microsoft"
   ]
  }
 ],
 "metadata": {
  "anaconda-cloud": {},
  "kernelspec": {
   "display_name": "Python 3",
   "language": "python",
   "name": "python3"
  },
  "language_info": {
   "codemirror_mode": {
    "name": "ipython",
    "version": 3
   },
   "file_extension": ".py",
   "mimetype": "text/x-python",
   "name": "python",
   "nbconvert_exporter": "python",
   "pygments_lexer": "ipython3",
   "version": "3.8.8"
  }
 },
 "nbformat": 4,
 "nbformat_minor": 1
}
