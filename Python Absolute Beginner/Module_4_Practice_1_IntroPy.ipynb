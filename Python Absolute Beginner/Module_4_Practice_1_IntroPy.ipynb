{
 "cells": [
  {
   "cell_type": "markdown",
   "metadata": {},
   "source": [
    "# 1-6.2 Intro Python Practice\n",
    "## Nested Conditionals\n",
    "<font size=\"5\" color=\"#00A0B2\"  face=\"verdana\"> <B>Student will be able to</B></font>\n",
    "- create nested conditional logic in code  \n",
    "- print format print using escape sequence (**\\**)"
   ]
  },
  {
   "cell_type": "markdown",
   "metadata": {},
   "source": [
    "# &nbsp;\n",
    "<font size=\"6\" color=\"#B24C00\"  face=\"verdana\"> <B>Tasks</B></font>  "
   ]
  },
  {
   "cell_type": "code",
   "execution_count": 1,
   "metadata": {},
   "outputs": [
    {
     "name": "stdout",
     "output_type": "stream",
     "text": [
      "The new line character is \"\\n\"\n"
     ]
    }
   ],
   "source": [
    "# [ ] print a string that outputs the following exactly: The new line character is \"\\n\"\n",
    "\n",
    "print(\"The new line character is \\\"\\\\n\\\"\")"
   ]
  },
  {
   "cell_type": "code",
   "execution_count": 2,
   "metadata": {},
   "outputs": [
    {
     "name": "stdout",
     "output_type": "stream",
     "text": [
      "\"That's how we escape!\"\n"
     ]
    }
   ],
   "source": [
    "# [ ] print output that is exactly (with quotes): \"That's how we escape!\"\n",
    "\n",
    "print(\"\\\"That's how we escape!\\\"\")"
   ]
  },
  {
   "cell_type": "code",
   "execution_count": 6,
   "metadata": {},
   "outputs": [
    {
     "name": "stdout",
     "output_type": "stream",
     "text": [
      "1\tone\n",
      "22\ttwo\n",
      "333\tthree\n"
     ]
    }
   ],
   "source": [
    "# [ ] with only 1 print statement and using No Space Characters, output the text commented below  \n",
    "\n",
    "# 1       one\n",
    "# 22      two\n",
    "# 333     three\n",
    "\n",
    "print(\"1\\tone\\n22\\ttwo\\n333\\tthree\")"
   ]
  },
  {
   "cell_type": "markdown",
   "metadata": {},
   "source": [
    "# &nbsp;\n",
    "## Program: quote_me() Function\n",
    "quote_me takes a string argument and returns a string that will display surrounded with **added double quotes** if printed  \n",
    "- check if passed string starts with a double quote (`\"\\\"\"`), then surround string with single quotations \n",
    "- if the passed string starts with single quote, or if doesn't start with a quotation mark, then surround with double quotations  \n",
    "\n",
    "Test the function code passing string input as the argument to quote_me() "
   ]
  },
  {
   "cell_type": "code",
   "execution_count": null,
   "metadata": {},
   "outputs": [],
   "source": [
    "# [ ] create and test quote_me()\n",
    "def quote_me(to_quote):\n",
    "    if to_quote.startswith(\"\\\"\"):\n",
    "        to_quote=\"\\'\"+to_quote+\"\\'\"\n",
    "        print(to_quote)\n",
    "    else:\n",
    "        to_quote=\"\\\"\"+to_quote+\"\\\"\"\n",
    "        print(to_quote)\n",
    "make_quote=input(\"What do you want to make a quote: \")\n",
    "quote_me(make_quote)\n"
   ]
  },
  {
   "cell_type": "markdown",
   "metadata": {},
   "source": [
    "# &nbsp;\n",
    "### Program: shirt order \n",
    "First get input for color and size  \n",
    "- White has sizes L, M \n",
    "- Blue has sizes M, S  \n",
    "\n",
    "print available or unavailable, then  \n",
    "print the order confirmation of color and size  \n",
    "\n",
    "*\n",
    "**hint**: set a variable \"available = False\" before nested if statements and  \n",
    "change to True if color and size are avaliable*"
   ]
  },
  {
   "cell_type": "code",
   "execution_count": 1,
   "metadata": {},
   "outputs": [
    {
     "name": "stdout",
     "output_type": "stream",
     "text": [
      "What color do you want: bleu\n",
      "What size do you want it in (S,M,L): m\n",
      "Available False \n",
      "Your order is bleu in size M\n"
     ]
    }
   ],
   "source": [
    "# [ ] create shirt order using nested if \n",
    "available=False\n",
    "color=input(\"What color do you want: \").lower()\n",
    "size=input(\"What size do you want it in (S,M,L): \").upper()\n",
    "if color==\"white\":\n",
    "    if size==\"M\":\n",
    "        available=True\n",
    "        print(\"Available:\",available)\n",
    "        print(\"Your order is\",color,\"in size\",size)\n",
    "    elif size==\"L\":\n",
    "        available=True\n",
    "        print(\"Available:\",available)\n",
    "        print(\"Your order is\",color,\"in size\",size)\n",
    "    else:\n",
    "        print(\"Available:\",available)\n",
    "        print(\"Your order is\",color,\"in size\",size)\n",
    "elif color==\"blue\":\n",
    "    if size==\"M\":\n",
    "        available=True\n",
    "        print(\"Available:\",available)\n",
    "        print(\"Your order is\",color,\"in size\",size)\n",
    "    elif size==\"S\":\n",
    "        available=True\n",
    "        print(\"Available:\",available)\n",
    "        print(\"Your order is\",color,\"in size\",size)\n",
    "    else:\n",
    "        print(\"Available:\",available)\n",
    "        print(\"Your order is\",color,\"in size\",size)   \n",
    "else:\n",
    "    print(\"Available\",available,\"\\nYour order is\",color,\"in size\",size)\n",
    "\n"
   ]
  },
  {
   "cell_type": "markdown",
   "metadata": {},
   "source": [
    "# &nbsp;\n",
    "## Program: str_analysis() Function\n",
    "Create the str_analysis() function that takes a string argument.  In the body of the function:\n",
    "- Check `if` string is digits  \n",
    "  - if digits: convert to `int` and check `if` greater than 99  \n",
    "    - if greater than 99, print a message about a \"big number\"  \n",
    "    - if not greater than 99, print message about \"small number\"    \n",
    "  - if not digits: check if string isalpha\n",
    "    - if isalpha print message about being all alpha\n",
    "    - if not isalpha print a message about being neither all alpha nor all digit  \n",
    "    \n",
    "call the function with a string from user input "
   ]
  },
  {
   "cell_type": "code",
   "execution_count": 3,
   "metadata": {},
   "outputs": [
    {
     "name": "stdout",
     "output_type": "stream",
     "text": [
      "Enter a string to analyize: 21515\n",
      "It is a big number!\n"
     ]
    }
   ],
   "source": [
    "# [ ] create and test str_analysis()\n",
    "\n",
    "def str_analysis(string):\n",
    "    if string.isdigit():\n",
    "        if int(string)>99:\n",
    "            print(\"It is a big number!\")\n",
    "        else:\n",
    "            print(\"It is a small number\")\n",
    "    elif string.isalpha():\n",
    "        print(\"Message is in all letters\")\n",
    "    else:\n",
    "        print(\"The message is not fully alphabetical or all digits\")\n",
    "test_string=input(\"Enter a string to analyize: \")\n",
    "str_analysis(test_string)\n"
   ]
  },
  {
   "cell_type": "markdown",
   "metadata": {
    "collapsed": true
   },
   "source": [
    "# &nbsp;  \n",
    "### Program: ticket_check() - finds out if a seat is available  \n",
    "Call ticket_check() function with 2 arguments: *section* and *seats* requested and return True or False  \n",
    "- **section** is a string and expects: general, floor\n",
    "- **seats** is an integer and expects: 1 - 10  \n",
    "\n",
    "Check for valid section and seats\n",
    "- if section is *general* (or use startswith \"g\")  \n",
    "  - if seats is 1-10 return True \n",
    "- if section is *floor* (or use starts with \"f\")\n",
    "  - if seats is 1-4 return True  \n",
    "\n",
    "otherwise return False"
   ]
  },
  {
   "cell_type": "code",
   "execution_count": 18,
   "metadata": {},
   "outputs": [
    {
     "name": "stdout",
     "output_type": "stream",
     "text": [
      "What section do you want to sit in(g for general, f for floor): 2\n",
      "What seat do you want to sit in (1-10): 2\n",
      "False\n"
     ]
    }
   ],
   "source": [
    "# [ ] create and call ticket_check()\n",
    "def ticket_check(section,seats):\n",
    "    if section==\"g\":\n",
    "        if int(seats)<=10:\n",
    "            if int(seats)>0:\n",
    "                return True\n",
    "            else:\n",
    "                return False\n",
    "        else:\n",
    "            return False\n",
    "    elif section==\"f\":\n",
    "        if seats<=4:\n",
    "            if seats>0:\n",
    "                return True\n",
    "            else:\n",
    "                return False\n",
    "        else:\n",
    "            return False\n",
    "    else:\n",
    "        return False\n",
    "check_section=input(\"What section do you want to sit in(g for general, f for floor): \").lower()\n",
    "check_seat=int(input(\"What seat do you want to sit in (1-10): \"))\n",
    "print(ticket_check(check_section,check_seat))    \n",
    "\n"
   ]
  },
  {
   "cell_type": "markdown",
   "metadata": {
    "collapsed": true
   },
   "source": [
    "[Terms of use](http://go.microsoft.com/fwlink/?LinkID=206977) &nbsp; [Privacy & cookies](https://go.microsoft.com/fwlink/?LinkId=521839) &nbsp; © 2017 Microsoft"
   ]
  }
 ],
 "metadata": {
  "anaconda-cloud": {},
  "kernelspec": {
   "display_name": "Python 3",
   "language": "python",
   "name": "python3"
  },
  "language_info": {
   "codemirror_mode": {
    "name": "ipython",
    "version": 3
   },
   "file_extension": ".py",
   "mimetype": "text/x-python",
   "name": "python",
   "nbconvert_exporter": "python",
   "pygments_lexer": "ipython3",
   "version": "3.8.8"
  }
 },
 "nbformat": 4,
 "nbformat_minor": 1
}
