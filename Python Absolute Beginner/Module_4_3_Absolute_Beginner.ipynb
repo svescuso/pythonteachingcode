{
 "cells": [
  {
   "cell_type": "markdown",
   "metadata": {},
   "source": [
    "# 1-7.1 Intro Python\n",
    "## `while()` loops & increments\n",
    "- **while `True`  or forever loops**\n",
    "- **incrementing in loops**\n",
    "- Boolean operators in while loops\n",
    "\n",
    "\n",
    "-----  \n",
    "\n",
    "><font size=\"5\" color=\"#00A0B2\"  face=\"verdana\"> <B>Student will be able to</B></font>\n",
    "- **create forever loops using `while` and `break`**\n",
    "- **use incrementing variables in a while loop**\n",
    "- control while loops using Boolean operators"
   ]
  },
  {
   "cell_type": "markdown",
   "metadata": {},
   "source": [
    "# &nbsp;\n",
    "<font size=\"6\" color=\"#00A0B2\"  face=\"verdana\"> <B>Concepts</B></font>\n",
    "## `while True:`\n",
    "### Using the 'while True:' loop\n",
    "[![view video](https://iajupyterprodblobs.blob.core.windows.net/imagecontainer/common/play_video.png)]( http://edxinteractivepage.blob.core.windows.net/edxpages/f7cff1a7-5601-48a1-95a6-fd1fdfabd20e.html?details=[{\"src\":\"http://jupyternootbookwams.streaming.mediaservices.windows.net/f43862cd-7cdc-45a3-adb1-a07dcbd9ae16/Unit1_Section7.1-while-forever.ism/manifest\",\"type\":\"application/vnd.ms-sstr+xml\"}],[{\"src\":\"http://jupyternootbookwams.streaming.mediaservices.windows.net/f43862cd-7cdc-45a3-adb1-a07dcbd9ae16/Unit1_Section7.1-while-forever.vtt\",\"srclang\":\"en\",\"kind\":\"subtitles\",\"label\":\"english\"}])\n",
    "\n",
    "**`while True:`** is known as the **forever loop** because it ...loops forever  \n",
    "\n",
    "Using the **`while True:`** statement results in a loop that continues to run forever   \n",
    "...or, until the loop is interrupted, such as with a **`break`** statement  \n",
    "\n",
    "## `break`\n",
    "### in a `while` loop, causes code flow to exit the loop  \n",
    "a **conditional** can implement **`break`** to exit a **`while True`** loop  "
   ]
  },
  {
   "cell_type": "markdown",
   "metadata": {},
   "source": [
    "# &nbsp;\n",
    "<font size=\"6\" color=\"#00A0B2\"  face=\"verdana\"> <B>Examples</B></font>\n",
    "## `while True` loops forever unless a `break` statement is used  "
   ]
  },
  {
   "cell_type": "code",
   "execution_count": 1,
   "metadata": {},
   "outputs": [
    {
     "name": "stdout",
     "output_type": "stream",
     "text": [
      "write forever, unless there is a \"break\"\n"
     ]
    }
   ],
   "source": [
    "# Review and run code\n",
    "# this example never loops because the break has no conditions\n",
    "while True:\n",
    "    print('write forever, unless there is a \"break\"')\n",
    "    break"
   ]
  },
  {
   "cell_type": "code",
   "execution_count": 2,
   "metadata": {},
   "outputs": [
    {
     "name": "stdout",
     "output_type": "stream",
     "text": [
      "guess the number 1 to 5: 2\n",
      "2 is incorrect\n",
      "\n",
      "guess the number 1 to 5: 3\n",
      "3 is incorrect\n",
      "\n",
      "guess the number 1 to 5: 3\n",
      "3 is incorrect\n",
      "\n",
      "guess the number 1 to 5: 3\n",
      "3 is incorrect\n",
      "\n",
      "guess the number 1 to 5: 3\n",
      "3 is incorrect\n",
      "\n",
      "guess the number 1 to 5: 3\n",
      "3 is incorrect\n",
      "\n",
      "guess the number 1 to 5: 3\n",
      "3 is incorrect\n",
      "\n",
      "guess the number 1 to 5: 5\n",
      "Yes 5 is correct!\n",
      "\n"
     ]
    }
   ],
   "source": [
    "# [ ] review the NUMBER GUESS code then run - Q. what cause the break statement to run?\n",
    "number_guess = \"0\"\n",
    "secret_number = \"5\"\n",
    "\n",
    "while True:\n",
    "    number_guess = input(\"guess the number 1 to 5: \")\n",
    "    if number_guess == secret_number:\n",
    "        print(\"Yes\", number_guess,\"is correct!\\n\")\n",
    "        break\n",
    "    else:\n",
    "        print(number_guess,\"is incorrect\\n\")"
   ]
  },
  {
   "cell_type": "code",
   "execution_count": 4,
   "metadata": {},
   "outputs": [
    {
     "name": "stdout",
     "output_type": "stream",
     "text": [
      "Enter weather (sunny, rainy, snowy, or quit): humid\n",
      "\n",
      "Sorry, not sure what to suggest for humid\n",
      "\n",
      "Enter weather (sunny, rainy, snowy, or quit): rainy\n",
      "\n",
      "Bring an umbrella and boots\n"
     ]
    }
   ],
   "source": [
    "# [ ] review WHAT TO WEAR code then run testing different inputs\n",
    "while True:\n",
    "    weather = input(\"Enter weather (sunny, rainy, snowy, or quit): \") \n",
    "    print()\n",
    "\n",
    "    if weather.lower() == \"sunny\":\n",
    "        print(\"Wear a t-shirt and sunscreen\")\n",
    "        break\n",
    "    elif weather.lower() == \"rainy\":\n",
    "        print(\"Bring an umbrella and boots\")\n",
    "        break\n",
    "    elif weather.lower() == \"snowy\":\n",
    "        print(\"Wear a warm coat and hat\")\n",
    "        break\n",
    "    elif weather.lower().startswith(\"q\"):\n",
    "        print('\"quit\" detected, exiting')\n",
    "        break\n",
    "    else:\n",
    "        print(\"Sorry, not sure what to suggest for\", weather +\"\\n\")"
   ]
  },
  {
   "cell_type": "markdown",
   "metadata": {},
   "source": [
    "# &nbsp;\n",
    "<font size=\"6\" color=\"#B24C00\"  face=\"verdana\"> <B>Task 1</B></font>\n",
    "## `while True` \n",
    "### [ ] Program: Get a name forever ...or until done\n",
    "- create variable, familar_name, and assign it an empty string (**`\"\"`**)\n",
    "- use **`while True:`**\n",
    "- ask for user input for familar_name (common name friends/family use) \n",
    "- keep asking until given a non-blank/non-space alphabetical name is received (Hint: Boolean string test)\n",
    "- break loop and print a greeting using familar_name"
   ]
  },
  {
   "cell_type": "code",
   "execution_count": 5,
   "metadata": {},
   "outputs": [
    {
     "name": "stdout",
     "output_type": "stream",
     "text": [
      "Enter a familar, common, friend's, or family's name: \n",
      "That is not a name without spaces\n",
      "Enter a familar, common, friend's, or family's name: \n",
      "That is not a name without spaces\n",
      "Enter a familar, common, friend's, or family's name: \n",
      "That is not a name without spaces\n",
      "Enter a familar, common, friend's, or family's name: \n",
      "That is not a name without spaces\n",
      "Enter a familar, common, friend's, or family's name: \n",
      "That is not a name without spaces\n",
      "Enter a familar, common, friend's, or family's name: \n",
      "That is not a name without spaces\n",
      "Enter a familar, common, friend's, or family's name: \n",
      "That is not a name without spaces\n",
      "Enter a familar, common, friend's, or family's name: \n",
      "That is not a name without spaces\n",
      "Enter a familar, common, friend's, or family's name: \n",
      "That is not a name without spaces\n",
      "Enter a familar, common, friend's, or family's name: \n",
      "That is not a name without spaces\n",
      "Enter a familar, common, friend's, or family's name: George of the jungle\n",
      "That is not a name without spaces\n",
      "Enter a familar, common, friend's, or family's name: Gerorome\n",
      "Gerorome sounds like cool name to have\n"
     ]
    }
   ],
   "source": [
    "# [ ] create Get Name program\n",
    "familar_name=\"\"\n",
    "while True:\n",
    "    familar_name=input(\"Enter a familar, common, friend's, or family's name: \")\n",
    "    if familar_name.isalpha():\n",
    "        break\n",
    "    else:\n",
    "        print(\"That is not a name without spaces\")\n",
    "print(familar_name,\"sounds like cool name to have\")\n"
   ]
  },
  {
   "cell_type": "markdown",
   "metadata": {
    "collapsed": true
   },
   "source": [
    "# &nbsp;\n",
    "<font size=\"6\" color=\"#00A0B2\"  face=\"verdana\"> <B>Concept</B></font>\n",
    "## Incrementing a variable\n",
    "[![view video](https://iajupyterprodblobs.blob.core.windows.net/imagecontainer/common/play_video.png)]( http://edxinteractivepage.blob.core.windows.net/edxpages/f7cff1a7-5601-48a1-95a6-fd1fdfabd20e.html?details=[{%22src%22:%22http://jupyternootbookwams.streaming.mediaservices.windows.net/cc7925d2-0652-4659-93fb-f4cc8d09ac51/Unit1_Section7.1-increment.ism/manifest%22,%22type%22:%22application/vnd.ms-sstr+xml%22}],[{%22src%22:%22http://jupyternootbookwams.streaming.mediaservices.windows.net/cc7925d2-0652-4659-93fb-f4cc8d09ac51/Unit1_Section7.1-increment.vtt%22,%22srclang%22:%22en%22,%22kind%22:%22subtitles%22,%22label%22:%22english%22}])\n",
    "## Incrementing\n",
    "### `votes = votes + 1` &nbsp; &nbsp; or &nbsp;  `votes += 1`\n",
    "\n",
    "## Decrementing \n",
    "### `votes = votes - 1` &nbsp; &nbsp; or &nbsp; `votes -= 1`"
   ]
  },
  {
   "cell_type": "markdown",
   "metadata": {},
   "source": [
    "# &nbsp;\n",
    "<font size=\"6\" color=\"#00A0B2\"  face=\"verdana\"> <B>Examples</B></font>\n",
    "  \n"
   ]
  },
  {
   "cell_type": "code",
   "execution_count": 6,
   "metadata": {},
   "outputs": [
    {
     "name": "stdout",
     "output_type": "stream",
     "text": [
      "3\n",
      "4\n",
      "6\n"
     ]
    }
   ],
   "source": [
    "# [ ] review and run example\n",
    "votes = 3\n",
    "print(votes)\n",
    "\n",
    "votes = votes + 1\n",
    "print(votes)\n",
    "\n",
    "votes += 2\n",
    "print(votes)"
   ]
  },
  {
   "cell_type": "code",
   "execution_count": 7,
   "metadata": {},
   "outputs": [
    {
     "name": "stdout",
     "output_type": "stream",
     "text": [
      "6\n",
      "5\n"
     ]
    }
   ],
   "source": [
    "print(votes)\n",
    "\n",
    "votes -= 1\n",
    "print(votes)"
   ]
  },
  {
   "cell_type": "code",
   "execution_count": 8,
   "metadata": {},
   "outputs": [
    {
     "name": "stdout",
     "output_type": "stream",
     "text": [
      "seat count: 0\n",
      "seat count: 1\n",
      "seat count: 2\n",
      "seat count: 3\n",
      "seat count: 4\n"
     ]
    }
   ],
   "source": [
    "# [ ] review the SEAT COUNT code then run \n",
    "\n",
    "seat_count = 0\n",
    "while True:\n",
    "    print(\"seat count:\",seat_count)\n",
    "    seat_count = seat_count + 1\n",
    "\n",
    "    if seat_count > 4:\n",
    "        break"
   ]
  },
  {
   "cell_type": "code",
   "execution_count": 10,
   "metadata": {},
   "outputs": [
    {
     "name": "stdout",
     "output_type": "stream",
     "text": [
      "enter seat type of \"hard\",\"soft\" or \"exit\" (to finish): soft\n",
      "enter seat type of \"hard\",\"soft\" or \"exit\" (to finish): hard\n",
      "enter seat type of \"hard\",\"soft\" or \"exit\" (to finish): soft\n",
      "enter seat type of \"hard\",\"soft\" or \"exit\" (to finish): george\n",
      "invalid entry: counted as hard\n",
      "\n",
      "seats are full\n",
      "4 Seats Total:  2 hard and 2 soft\n"
     ]
    }
   ],
   "source": [
    "# [ ] review the SEAT TYPE COUNT code then run entering: hard, soft, medium and exit\n",
    "\n",
    "# initialize variables\n",
    "seat_count = 0\n",
    "soft_seats = 0\n",
    "hard_seats = 0\n",
    "num_seats = 4\n",
    "\n",
    "# loops tallying seats using soft pads vs hard, until seats full or user \"exits\"\n",
    "while True:\n",
    "    seat_type = input('enter seat type of \"hard\",\"soft\" or \"exit\" (to finish): ')\n",
    "    \n",
    "    if seat_type.lower().startswith(\"e\"):\n",
    "        print()\n",
    "        break\n",
    "    elif seat_type.lower() == \"hard\":\n",
    "        hard_seats += 1\n",
    "    elif seat_type.lower() == \"soft\":\n",
    "        soft_seats += 1\n",
    "    else:\n",
    "        print(\"invalid entry: counted as hard\")\n",
    "        hard_seats += 1  \n",
    "    seat_count += 1\n",
    "    if seat_count >= num_seats:\n",
    "        print(\"\\nseats are full\")\n",
    "        break\n",
    "        \n",
    "print(seat_count,\"Seats Total: \",hard_seats,\"hard and\",soft_seats,\"soft\" )"
   ]
  },
  {
   "cell_type": "markdown",
   "metadata": {},
   "source": [
    "# &nbsp;\n",
    "<font size=\"6\" color=\"#B24C00\"  face=\"verdana\"> <B>Task 2</B></font>\n",
    "## incrementing in a `while()` loop\n",
    "### Program: Shirt Count\n",
    "- enter a sizes (S, M, L)\n",
    "- tally the count of each size\n",
    "- input \"exit\" when finished\n",
    "- report out the purchase of each shirt size  \n"
   ]
  },
  {
   "cell_type": "code",
   "execution_count": 12,
   "metadata": {},
   "outputs": [
    {
     "name": "stdout",
     "output_type": "stream",
     "text": [
      "Enter the shirt size you wish to order(S,M,L,done): f\n",
      "Enter a valid shirt size\n",
      "Enter the shirt size you wish to order(S,M,L,done): S\n",
      "Enter the shirt size you wish to order(S,M,L,done): S\n",
      "Enter the shirt size you wish to order(S,M,L,done): D\n",
      "Enter a valid shirt size\n",
      "Enter the shirt size you wish to order(S,M,L,done): L\n",
      "Enter the shirt size you wish to order(S,M,L,done): E\n",
      "Enter a valid shirt size\n",
      "Enter the shirt size you wish to order(S,M,L,done): S\n",
      "Enter the shirt size you wish to order(S,M,L,done): M\n",
      "Enter the shirt size you wish to order(S,M,L,done): M\n",
      "Enter the shirt size you wish to order(S,M,L,done): L\n",
      "Enter the shirt size you wish to order(S,M,L,done): done\n",
      "Thank you for your order :)\n",
      "You ordered:\n",
      " 3 Small Shirts\n",
      " 2 Medium Shirts\n",
      " 2 Large shirts\n"
     ]
    }
   ],
   "source": [
    "# [ ] Create the Shirt Count program, run tests\n",
    "small_shirts=0\n",
    "medium_shirts=0\n",
    "large_shirts=0\n",
    "while True:\n",
    "    order=input(\"Enter the shirt size you wish to order(S,M,L,done): \").upper()\n",
    "    if order==\"S\":\n",
    "        small_shirts+=1\n",
    "    elif order==\"M\":\n",
    "        medium_shirts+=1\n",
    "    elif order==\"L\":\n",
    "        large_shirts+=1\n",
    "    elif order==\"DONE\":\n",
    "        print(\"Thank you for your order :)\")\n",
    "        break\n",
    "    else:\n",
    "        print(\"Enter a valid shirt size\")\n",
    "print(\"You ordered:\\n\",small_shirts,\"Small Shirts\\n\",medium_shirts,\"Medium Shirts\\n\",large_shirts,\"Large shirts\")\n"
   ]
  },
  {
   "cell_type": "markdown",
   "metadata": {},
   "source": [
    "### CHALLENGE: Shirt Register (optional)  \n",
    "Update the **Shirt Count** program to calculate cost\n",
    "- use shirt cost (S = 6, M = 7, L = 8)\n",
    "- to calculate and report the subtotal cost for each size \n",
    "- to calculate and report the total cost of all shirts"
   ]
  },
  {
   "cell_type": "code",
   "execution_count": 14,
   "metadata": {},
   "outputs": [
    {
     "name": "stdout",
     "output_type": "stream",
     "text": [
      "Enter the shirt size you wish to order(S,M,L,done): S\n",
      "Enter the shirt size you wish to order(S,M,L,done): S\n",
      "Enter the shirt size you wish to order(S,M,L,done): S\n",
      "Enter the shirt size you wish to order(S,M,L,done): M\n",
      "Enter the shirt size you wish to order(S,M,L,done): D\n",
      "Enter a valid shirt size\n",
      "Enter the shirt size you wish to order(S,M,L,done): L\n",
      "Enter the shirt size you wish to order(S,M,L,done): L\n",
      "Enter the shirt size you wish to order(S,M,L,done): M\n",
      "Enter the shirt size you wish to order(S,M,L,done): M\n",
      "Enter the shirt size you wish to order(S,M,L,done): L\n",
      "Enter the shirt size you wish to order(S,M,L,done): S\n",
      "Enter the shirt size you wish to order(S,M,L,done): M\n",
      "Enter the shirt size you wish to order(S,M,L,done): M\n",
      "Enter the shirt size you wish to order(S,M,L,done): S\n",
      "Enter the shirt size you wish to order(S,M,L,done): L\n",
      "Enter the shirt size you wish to order(S,M,L,done): LK\n",
      "Enter a valid shirt size\n",
      "Enter the shirt size you wish to order(S,M,L,done): done\n",
      "Thank you for your order :)\n",
      "You ordered:\n",
      " 5 Small Shirts which costs 30 \n",
      " 5 Medium Shirts which cost 35 \n",
      " 4 Large shirts which cost 32 \n",
      "\n",
      "Your total order price is 97\n"
     ]
    }
   ],
   "source": [
    "# [ ] Create the Shirt Register program, run tests\n",
    "small_shirts=0\n",
    "medium_shirts=0\n",
    "large_shirts=0\n",
    "small_cost=6\n",
    "medium_cost=7\n",
    "large_cost=8\n",
    "while True:\n",
    "    order=input(\"Enter the shirt size you wish to order(S,M,L,done): \").upper()\n",
    "    if order==\"S\":\n",
    "        small_shirts+=1\n",
    "    elif order==\"M\":\n",
    "        medium_shirts+=1\n",
    "    elif order==\"L\":\n",
    "        large_shirts+=1\n",
    "    elif order==\"DONE\":\n",
    "        print(\"Thank you for your order :)\")\n",
    "        total_small=small_shirts*small_cost\n",
    "        total_medium= medium_shirts*medium_cost\n",
    "        total_large=large_shirts*large_cost\n",
    "        total_cost=total_small+total_medium+total_large\n",
    "        break\n",
    "    else:\n",
    "        print(\"Enter a valid shirt size\")\n",
    "\n",
    "print(\"You ordered:\\n\",small_shirts,\"Small Shirts which costs\",total_small,\"\\n\",medium_shirts,\"Medium Shirts which cost\",total_medium,\"\\n\",large_shirts,\"Large shirts which cost\",total_large,\"\\n\")\n",
    "print(\"Your total order price is\",total_cost)\n"
   ]
  },
  {
   "cell_type": "markdown",
   "metadata": {},
   "source": [
    "[Terms of use](http://go.microsoft.com/fwlink/?LinkID=206977) &nbsp; [Privacy & cookies](https://go.microsoft.com/fwlink/?LinkId=521839) &nbsp; © 2017 Microsoft"
   ]
  }
 ],
 "metadata": {
  "anaconda-cloud": {},
  "kernelspec": {
   "display_name": "Python 3",
   "language": "python",
   "name": "python3"
  },
  "language_info": {
   "codemirror_mode": {
    "name": "ipython",
    "version": 3
   },
   "file_extension": ".py",
   "mimetype": "text/x-python",
   "name": "python",
   "nbconvert_exporter": "python",
   "pygments_lexer": "ipython3",
   "version": "3.8.8"
  }
 },
 "nbformat": 4,
 "nbformat_minor": 1
}
