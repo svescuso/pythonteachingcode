{
 "cells": [
  {
   "cell_type": "markdown",
   "metadata": {},
   "source": [
    "# 1-4.3 Intro Python Practice\n",
    "## Conditionals \n",
    "<font size=\"5\" color=\"#00A0B2\"  face=\"verdana\"> <B>Student will be able to</B></font>  \n",
    "- **control code flow with `if`... `else` conditional logic**  \n",
    "  - using Boolean string methods (`.isupper(), .isalpha(), .startswith()...`)  \n",
    "  - using comparision (`>, <, >=, <=, ==, !=`)  \n",
    "  - using Strings in comparisons  "
   ]
  },
  {
   "cell_type": "markdown",
   "metadata": {},
   "source": [
    "## `if else`\n"
   ]
  },
  {
   "cell_type": "code",
   "execution_count": 2,
   "metadata": {},
   "outputs": [
    {
     "name": "stdout",
     "output_type": "stream",
     "text": [
      "What is your age:  2\n",
      "It is good to be 2\n"
     ]
    }
   ],
   "source": [
    "# [ ] input avariable: age as digit and cast to int\n",
    "age=int(input(\"What is your age:  \"))\n",
    "# if age greater than or equal to 12 then print message on age in 10 years \n",
    "if age>=12:\n",
    "    print(\"Your age in 10 years will be\",age+10)\n",
    "# or else print message \"It is good to be\" age\n",
    "else:\n",
    "    print(\"It is good to be\",age)\n",
    "\n",
    "\n",
    "\n"
   ]
  },
  {
   "cell_type": "code",
   "execution_count": 12,
   "metadata": {},
   "outputs": [
    {
     "name": "stdout",
     "output_type": "stream",
     "text": [
      "Enter an integer: 1001\n",
      "1001 greater than 100 is True\n"
     ]
    }
   ],
   "source": [
    "# [ ] input a number \n",
    "num=input(\"Enter an integer: \")\n",
    "# if number IS a digit string then cast to int\n",
    "if num.isdigit():\n",
    "    number=int(num)\n",
    "# print number \"greater than 100 is\" True/False\n",
    "    print(number,\"greater than 100 is\",number>100)\n",
    "# if number is NOT a digit string then message the user that \"only int is accepted\"\n",
    "else:\n",
    "    print(\"only int is accepted\")\n",
    "\n"
   ]
  },
  {
   "cell_type": "markdown",
   "metadata": {},
   "source": [
    "### Guessing a letter A-Z  \n",
    "**check_guess()** takes 2 string arguments: **letter and guess** (both expect single alphabetical character)   \n",
    "    - if guess is not an alpha character print invalid and return False\n",
    "    - test and print if guess is \"high\" or \"low\" and return False\n",
    "    - test and print if guess is \"correct\" and return True"
   ]
  },
  {
   "cell_type": "code",
   "execution_count": 19,
   "metadata": {},
   "outputs": [
    {
     "name": "stdout",
     "output_type": "stream",
     "text": [
      "guess is high\n",
      "False\n"
     ]
    }
   ],
   "source": [
    "# [ ] create check_guess()\n",
    "def check_guess(letter,guess):\n",
    "    if guess.isalpha()==False:\n",
    "        print(\"invalid\")\n",
    "        return False\n",
    "    elif letter==guess:\n",
    "        print(\"correct\")\n",
    "        return True\n",
    "    elif letter>guess:\n",
    "        print(\"guess is low\")\n",
    "        return False\n",
    "    else:\n",
    "        print(\"guess is high\")\n",
    "        return False\n",
    "# call with test\n",
    "letter=\"A\"\n",
    "guess=\"d\"\n",
    "print(check_guess(letter,guess))\n"
   ]
  },
  {
   "cell_type": "code",
   "execution_count": 21,
   "metadata": {},
   "outputs": [
    {
     "name": "stdout",
     "output_type": "stream",
     "text": [
      "Enter a single letter: A\n",
      "Enter the guess letter: a\n",
      "guess is high\n",
      "False\n"
     ]
    }
   ],
   "source": [
    "# [ ] call check_guess with user input\n",
    "letter=input(\"Enter a single letter: \")\n",
    "guess=input(\"Enter the guess letter: \")\n",
    "print(check_guess(letter,guess))\n"
   ]
  },
  {
   "cell_type": "markdown",
   "metadata": {},
   "source": [
    "### Letter Guess\n",
    "**create letter_guess() function that gives user 3 guesses**\n",
    "- takes a letter character argument for the answer letter\n",
    "- gets user input for letter guess  \n",
    "- calls check_guess() with answer and guess\n",
    "- End letter_guess if \n",
    "    - check_guess() equals True, return True  \n",
    "    - or after 3 failed attempts, return False"
   ]
  },
  {
   "cell_type": "code",
   "execution_count": 22,
   "metadata": {},
   "outputs": [
    {
     "name": "stdout",
     "output_type": "stream",
     "text": [
      "Enter your guess for which letter is the answer: f\n",
      "guess is low\n",
      "Try another letter(2 chances left): r\n",
      "guess is high\n",
      "Try another letter(1 chance left): d\n",
      "guess is low\n",
      "False\n"
     ]
    }
   ],
   "source": [
    "# [ ] create letter_guess() function, call the function to test\n",
    "def letter_guess(answer):\n",
    "    guess=input(\"Enter your guess for which letter is the answer: \")\n",
    "    result=check_guess(answer,guess)\n",
    "    if result:\n",
    "        return True\n",
    "    else:\n",
    "        guess=input(\"Try another letter(2 chances left): \")\n",
    "        result=check_guess(answer,guess)\n",
    "        if result:\n",
    "            return True\n",
    "        else:\n",
    "            guess=input(\"Try another letter(1 chance left): \")\n",
    "            result=check_guess(answer,guess)\n",
    "            if result:\n",
    "                return True\n",
    "            else:\n",
    "                return False\n",
    "\n",
    "answer=\"g\"\n",
    "print(letter_guess(answer))\n",
    "\n"
   ]
  },
  {
   "cell_type": "markdown",
   "metadata": {},
   "source": [
    "### Pet Conversation\n",
    "**ask the user for a sentence about a pet and then reply**  \n",
    "- get user input in variable: about_pet\n",
    "- using a series of **if** statements respond with appropriate conversation\n",
    "  - check if \"dog\" is in the string about_pet (sample reply \"Ah, a dog\")\n",
    "  - check if \"cat\" is in the string about_pet\n",
    "  - check if 1 or more animal is in string about_pet\n",
    "- no need for **else**'s\n",
    "- finish with thanking for the story"
   ]
  },
  {
   "cell_type": "code",
   "execution_count": 23,
   "metadata": {},
   "outputs": [
    {
     "name": "stdout",
     "output_type": "stream",
     "text": [
      "Enter a sentence about your pet: I have a pet dog named Renia she is mostly laid back.\n",
      "Dogs are good pets to have\n",
      "thank you for the story\n"
     ]
    }
   ],
   "source": [
    "# [ ] complete pet conversation\n",
    "about_pet=input(\"Enter a sentence about your pet: \")\n",
    "if \"dog\"in about_pet:\n",
    "    print(\"Dogs are good pets to have\")\n",
    "if \"cat\"in about_pet:\n",
    "    print(\"A cat can either very independent or extremely dependent :)\")\n",
    "if \"bird\"in about_pet:\n",
    "    print(\"A BIRD, birds are computer's favorite pet\")\n",
    "print(\"thank you for the story\")\n"
   ]
  },
  {
   "cell_type": "markdown",
   "metadata": {
    "collapsed": true
   },
   "source": [
    "[Terms of use](http://go.microsoft.com/fwlink/?LinkID=206977) &nbsp; [Privacy & cookies](https://go.microsoft.com/fwlink/?LinkId=521839) &nbsp; © 2017 Microsoft"
   ]
  }
 ],
 "metadata": {
  "anaconda-cloud": {},
  "kernelspec": {
   "display_name": "Python 3",
   "language": "python",
   "name": "python3"
  },
  "language_info": {
   "codemirror_mode": {
    "name": "ipython",
    "version": 3
   },
   "file_extension": ".py",
   "mimetype": "text/x-python",
   "name": "python",
   "nbconvert_exporter": "python",
   "pygments_lexer": "ipython3",
   "version": "3.8.8"
  }
 },
 "nbformat": 4,
 "nbformat_minor": 1
}
