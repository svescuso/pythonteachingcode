{
 "cells": [
  {
   "cell_type": "markdown",
   "metadata": {},
   "source": [
    "# 1-5.1 Python Intro  \n",
    "## conditionals, type, and mathematics extended  \n",
    "- **conditionals: `elif`**\n",
    "- **casting**  \n",
    "- basic math operators  \n",
    "\n",
    "-----\n",
    "\n",
    "><font size=\"5\" color=\"#00A0B2\"  face=\"verdana\"> <B>Student will be able to</B></font>  \n",
    "- **code more than two choices using `elif`** \n",
    "- **gather numeric input using type casting**  \n",
    "- perform subtraction, multiplication and division operations in code \n"
   ]
  },
  {
   "cell_type": "markdown",
   "metadata": {},
   "source": [
    "# &nbsp;\n",
    "<font size=\"6\" color=\"#00A0B2\"  face=\"verdana\"> <B>Concepts</B></font>\n",
    "## conditional `elif`\n",
    "\n",
    "[![view video](https://iajupyterprodblobs.blob.core.windows.net/imagecontainer/common/play_video.png)]( http://edxinteractivepage.blob.core.windows.net/edxpages/f7cff1a7-5601-48a1-95a6-fd1fdfabd20e.html?details=[{\"src\":\"http://jupyternootbookwams.streaming.mediaservices.windows.net/a2ac5f4b-0400-4a60-91d5-d350c3cc0515/Unit1_Section5.1-elif.ism/manifest\",\"type\":\"application/vnd.ms-sstr+xml\"}],[{\"src\":\"http://jupyternootbookwams.streaming.mediaservices.windows.net/a2ac5f4b-0400-4a60-91d5-d350c3cc0515/Unit1_Section5.1-elif.vtt\",\"srclang\":\"en\",\"kind\":\"subtitles\",\"label\":\"english\"}])\n",
    "### a little review  \n",
    "- **`if`** means \"**if** a condition exists then do some task.\" **`if`** is usually followed by **`else`**  \n",
    "- **`else`** means \"**or else** after we have tested **if**, then do an alternative task\"  \n",
    "\n",
    "When there  is a need to test for multiple conditions there is&nbsp; **`elif`**\n",
    "- **`elif`**&nbsp; statement follows &nbsp;**`if`**, and means **\"else, if \"** another condition exists do something else\n",
    "- **`elif`**&nbsp; can be used many times\n",
    "- **`else`**&nbsp; is used after the last test condition (**`if`** or **`elif`**)\n",
    "\n",
    "#### in psuedo code  \n",
    "**If** it is raining bring an umbrella  \n",
    "or **Else If** &nbsp;(`elif`) it is snowing bring a warm coat  \n",
    "or **Else** go as usual  \n",
    "\n",
    "Like **`else`**, the **`elif`** only executes when the previous conditional is False"
   ]
  },
  {
   "cell_type": "markdown",
   "metadata": {
    "collapsed": true
   },
   "source": [
    "# &nbsp;\n",
    "<font size=\"6\" color=\"#00A0B2\"  face=\"verdana\"> <B>Examples</B></font>"
   ]
  },
  {
   "cell_type": "code",
   "execution_count": 3,
   "metadata": {},
   "outputs": [
    {
     "name": "stdout",
     "output_type": "stream",
     "text": [
      "Enter weather (sunny, rainy, snowy): snowy\n",
      "Wear a warm coat and hat\n"
     ]
    }
   ],
   "source": [
    "# [ ] review the code then run testing different inputs\n",
    "# WHAT TO WEAR\n",
    "weather = input(\"Enter weather (sunny, rainy, snowy): \") \n",
    "\n",
    "if weather.lower() == \"sunny\":\n",
    "    print(\"Wear a t-shirt\")\n",
    "elif weather.lower() == \"rainy\":\n",
    "    print(\"Bring an umbrella and boots\")\n",
    "elif weather.lower() == \"snowy\":\n",
    "    print(\"Wear a warm coat and hat\")\n",
    "else:\n",
    "    print(\"Sorry, not sure what to suggest for\", weather)"
   ]
  },
  {
   "cell_type": "code",
   "execution_count": 6,
   "metadata": {},
   "outputs": [
    {
     "name": "stdout",
     "output_type": "stream",
     "text": [
      "Enter a guess for the secret number (1-3): 2\n",
      "Guess is right\n"
     ]
    }
   ],
   "source": [
    "# [ ] review the code then run testing different inputs\n",
    "# SECRET NUMBER GUESS\n",
    "secret_num = \"2\"\n",
    "\n",
    "guess = input(\"Enter a guess for the secret number (1-3): \")\n",
    "\n",
    "if guess.isdigit() == False:\n",
    "    print(\"Invalid: guess should only use digits\")\n",
    "elif guess == \"1\":\n",
    "    print(\"Guess is too low\")\n",
    "elif guess == secret_num:\n",
    "    print(\"Guess is right\")\n",
    "elif guess == \"3\":\n",
    "    print(\"Guess is too high\")\n",
    "else:\n",
    "    print(guess, \"is not a valid guess (1-3)\")"
   ]
  },
  {
   "cell_type": "markdown",
   "metadata": {},
   "source": [
    "# &nbsp;\n",
    "<font size=\"6\" color=\"#B24C00\"  face=\"verdana\"> <B>Task 1</B></font>\n",
    "\n",
    "## Program: Shirt Sale\n",
    "### Complete program using &nbsp; `if, elif, else`\n",
    "- Get user input for variable size (S, M, L)\n",
    "- reply with each shirt size and price (Small = \\$ 6, Medium = \\$ 7, Large = \\$ 8)\n",
    "- if the reply is other than S, M, L, give a message for not available\n",
    "- *optional*: add additional sizes"
   ]
  },
  {
   "cell_type": "code",
   "execution_count": 12,
   "metadata": {},
   "outputs": [
    {
     "name": "stdout",
     "output_type": "stream",
     "text": [
      "What is your shirt size (S,M,L,XL): biggi\n",
      "Sorry we do not have your shirt size biggi\n"
     ]
    }
   ],
   "source": [
    "# [ ] code and test SHIRT SALE\n",
    "user_size=input(\"What is your shirt size (S,M,L,XL): \")\n",
    "if user_size.lower()=='s':\n",
    "    print(\"Small is priced at $6\")\n",
    "elif user_size.lower()=='m':\n",
    "    print(\"Medium is priced at $7\")\n",
    "elif user_size.lower()=='l':\n",
    "    print:(\"Large is priced at $8\")\n",
    "elif user_size.lower()=='xl':\n",
    "    print(\"X-Large is priced at $8.50\")\n",
    "else:\n",
    "    print(\"Sorry we do not have your shirt size\",user_size)"
   ]
  },
  {
   "cell_type": "markdown",
   "metadata": {},
   "source": [
    "# &nbsp;\n",
    "<font size=\"6\" color=\"#00A0B2\"  face=\"verdana\"> <B>Concepts</B></font>\n",
    "## casting\n",
    "Casting is the conversion from one data type to another Such as converting from **`str`** to **`int`**.\n",
    "[![view video](https://iajupyterprodblobs.blob.core.windows.net/imagecontainer/common/play_video.png)]( http://edxinteractivepage.blob.core.windows.net/edxpages/f7cff1a7-5601-48a1-95a6-fd1fdfabd20e.html?details=[{\"src\":\"http://jupyternootbookwams.streaming.mediaservices.windows.net/4cbf7f96-9ddd-4962-88a8-71081d7d5ef6/Unit1_Section5.1-casting-input.ism/manifest\",\"type\":\"application/vnd.ms-sstr+xml\"}],[{\"src\":\"http://jupyternootbookwams.streaming.mediaservices.windows.net/4cbf7f96-9ddd-4962-88a8-71081d7d5ef6/Unit1_Section5.1-casting-input.vtt\",\"srclang\":\"en\",\"kind\":\"subtitles\",\"label\":\"english\"}])\n",
    "### `int()`\n",
    "the **`int()`** function can convert stings that represent whole counting numbers into integers and strip decimals to convert float numbers to integers\n",
    "- `int(\"1\") = 1` &nbsp; the string representing the integer character `\"1\"`, cast to a number \n",
    "- `int(5.1) = 5` &nbsp; the decimal (float), `5.1`, truncated into a non-decimal (integer)  \n",
    "- `int(\"5.1\") = ValueError` &nbsp; `\"5.1\"` isn't a string representation of integer, `int()` can cast only strings representing integer values   \n"
   ]
  },
  {
   "cell_type": "markdown",
   "metadata": {},
   "source": [
    "# &nbsp;\n",
    "<font size=\"6\" color=\"#00A0B2\"  face=\"verdana\"> <B>Example</B></font>"
   ]
  },
  {
   "cell_type": "code",
   "execution_count": 13,
   "metadata": {},
   "outputs": [
    {
     "name": "stdout",
     "output_type": "stream",
     "text": [
      "230\n"
     ]
    }
   ],
   "source": [
    "weight1 = '60' # a string\n",
    "weight2 = 170 # an integer\n",
    "# add 2 integers\n",
    "total_weight = int(weight1) + weight2\n",
    "print(total_weight)"
   ]
  },
  {
   "cell_type": "markdown",
   "metadata": {},
   "source": [
    "# &nbsp;\n",
    "<font size=\"6\" color=\"#B24C00\"  face=\"verdana\"> <B>Task 2</B></font>\n",
    "## casting with `int()` & `str()`"
   ]
  },
  {
   "cell_type": "code",
   "execution_count": 14,
   "metadata": {},
   "outputs": [
    {
     "data": {
      "text/plain": [
       "36"
      ]
     },
     "execution_count": 14,
     "metadata": {},
     "output_type": "execute_result"
    }
   ],
   "source": [
    "str_num_1 = \"11\"\n",
    "str_num_2 = \"15\"\n",
    "int_num_3 = 10\n",
    "# [ ] Add the 3 numbers as integers and print the result\n",
    "int(str_num_1)+int(str_num_2 )+int_num_3\n"
   ]
  },
  {
   "cell_type": "code",
   "execution_count": 15,
   "metadata": {},
   "outputs": [
    {
     "data": {
      "text/plain": [
       "'111510'"
      ]
     },
     "execution_count": 15,
     "metadata": {},
     "output_type": "execute_result"
    }
   ],
   "source": [
    "str_num_1 = \"11\"\n",
    "str_num_2 = \"15\"\n",
    "int_num_3 = 10\n",
    "# [ ] Add the 3 numbers as test strings and print the result\n",
    "str_num_1+str_num_2+str(int_num_3)\n"
   ]
  },
  {
   "cell_type": "markdown",
   "metadata": {},
   "source": [
    "<font size=\"4\" color=\"#B24C00\"  face=\"verdana\"> <B>Task 2 cont...</B></font>\n",
    "### Program: adding using `int` casting\n",
    "- **[ ]** initialize **`str_integer`** variable to a **string containing characters of an integer** (quotes)   \n",
    "- **[ ]** initialize **`int_number`** variable with an **integer value** (no quotes)\n",
    "- **[ ]** initialize **`number_total`** variable and **add int_number + str_integer** using **`int`** casting\n",
    "- **[ ]** print the sum (**`number_total`**)"
   ]
  },
  {
   "cell_type": "code",
   "execution_count": 17,
   "metadata": {},
   "outputs": [
    {
     "name": "stdout",
     "output_type": "stream",
     "text": [
      "enter a number: 45\n",
      "enter another number: 12\n",
      "57\n"
     ]
    }
   ],
   "source": [
    "# [ ] code and test: adding using int casting\n",
    "str_integer = input(\"enter a number: \")\n",
    "int_number = int(input(\"enter another number: \"))\n",
    "number_total = int(str_integer) + int_number\n",
    "print(number_total)\n"
   ]
  },
  {
   "cell_type": "markdown",
   "metadata": {},
   "source": [
    "# &nbsp;\n",
    "<font size=\"6\" color=\"#00A0B2\"  face=\"verdana\"> <B>Concepts</B></font>\n",
    "## `input()`  strings that represent numbers can be \"cast\" to integer values\n"
   ]
  },
  {
   "cell_type": "markdown",
   "metadata": {},
   "source": [
    "# &nbsp;\n",
    "<font size=\"6\" color=\"#00A0B2\"  face=\"verdana\"> <B>Example</B></font>"
   ]
  },
  {
   "cell_type": "code",
   "execution_count": 18,
   "metadata": {},
   "outputs": [
    {
     "name": "stdout",
     "output_type": "stream",
     "text": [
      "enter student age (integer): 12\n",
      "Next year student will be 13\n"
     ]
    }
   ],
   "source": [
    "# [ ] review and run code\n",
    "student_age = input('enter student age (integer): ')\n",
    "age_next_year = int(student_age) + 1\n",
    "print('Next year student will be',age_next_year)"
   ]
  },
  {
   "cell_type": "code",
   "execution_count": 19,
   "metadata": {},
   "outputs": [
    {
     "name": "stdout",
     "output_type": "stream",
     "text": [
      "enter student age (integer): 15\n",
      "In a decade the student will be 25\n"
     ]
    }
   ],
   "source": [
    "# [ ] review and run code\n",
    "# cast to int at input\n",
    "student_age = int(input('enter student age (integer): '))\n",
    "\n",
    "age_in_decade = student_age + 10\n",
    "\n",
    "print('In a decade the student will be', age_in_decade)"
   ]
  },
  {
   "cell_type": "markdown",
   "metadata": {
    "collapsed": true
   },
   "source": [
    "# &nbsp;\n",
    "<font size=\"6\" color=\"#B24C00\"  face=\"verdana\"> <B>Task 3</B></font>\n",
    "## Program: adding calculator\n",
    "- get input of 2 **integer** numbers \n",
    "- cast the input and print the input followed by the result\n",
    "  - Output Example: **`9 + 13 = 22`**  \n",
    "\n",
    "Optional: check if input .isdigit() before trying integer addition to avoid errors in casting invalid inputs"
   ]
  },
  {
   "cell_type": "code",
   "execution_count": 20,
   "metadata": {},
   "outputs": [
    {
     "name": "stdout",
     "output_type": "stream",
     "text": [
      "Enter the first number: 12\n",
      "Enter the second number: 25\n",
      "12 + 25 = 37\n"
     ]
    }
   ],
   "source": [
    "# [ ] code and test the adding calculator\n",
    "int1=int(input(\"Enter the first number: \"))\n",
    "int2=int(input(\"Enter the second number: \"))\n",
    "print(int1,'+',int2,'=',int1+int2)"
   ]
  },
  {
   "cell_type": "markdown",
   "metadata": {},
   "source": [
    "[Terms of use](http://go.microsoft.com/fwlink/?LinkID=206977) &nbsp; [Privacy & cookies](https://go.microsoft.com/fwlink/?LinkId=521839) &nbsp; © 2017 Microsoft"
   ]
  }
 ],
 "metadata": {
  "anaconda-cloud": {},
  "kernelspec": {
   "display_name": "Python 3",
   "language": "python",
   "name": "python3"
  },
  "language_info": {
   "codemirror_mode": {
    "name": "ipython",
    "version": 3
   },
   "file_extension": ".py",
   "mimetype": "text/x-python",
   "name": "python",
   "nbconvert_exporter": "python",
   "pygments_lexer": "ipython3",
   "version": "3.8.8"
  }
 },
 "nbformat": 4,
 "nbformat_minor": 1
}
